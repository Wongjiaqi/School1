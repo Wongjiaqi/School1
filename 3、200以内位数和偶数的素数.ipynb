{
 "cells": [
  {
   "cell_type": "code",
   "execution_count": 1,
   "metadata": {},
   "outputs": [
    {
     "name": "stdout",
     "output_type": "stream",
     "text": [
      "2\n",
      "11\n",
      "13\n",
      "17\n",
      "19\n",
      "31\n",
      "37\n",
      "53\n",
      "59\n",
      "71\n",
      "73\n",
      "79\n",
      "97\n",
      "101\n",
      "103\n",
      "107\n",
      "109\n",
      "127\n",
      "149\n",
      "163\n",
      "167\n",
      "181\n"
     ]
    }
   ],
   "source": [
    "l=[]\n",
    "judge=1\n",
    "for i in range(2,201):\n",
    "    m=int(i**0.5)\n",
    "    for j in range(2,m+1):\n",
    "        if(i%j==0):\n",
    "            judge=0\n",
    "            break\n",
    "    if(judge==1):\n",
    "        l.append(i)\n",
    "    judge=1\n",
    "#for i in range(0,len(l)):\n",
    "#   print (l[i])\n",
    "for i in range(0,len(l)):\n",
    "    num_sum=0\n",
    "    container=l[i]\n",
    "    for j in range(0,3):\n",
    "        if(container>0):\n",
    "            num_sum+=(container%10)\n",
    "            container//=10\n",
    "        else:\n",
    "            break\n",
    "    if(num_sum%2==0):\n",
    "        print(l[i])\n",
    "        \n",
    "        "
   ]
  },
  {
   "cell_type": "code",
   "execution_count": null,
   "metadata": {
    "collapsed": true
   },
   "outputs": [],
   "source": []
  },
  {
   "cell_type": "code",
   "execution_count": null,
   "metadata": {
    "collapsed": true
   },
   "outputs": [],
   "source": []
  },
  {
   "cell_type": "code",
   "execution_count": null,
   "metadata": {
    "collapsed": true
   },
   "outputs": [],
   "source": []
  }
 ],
 "metadata": {
  "kernelspec": {
   "display_name": "Python 3",
   "language": "python",
   "name": "python3"
  },
  "language_info": {
   "codemirror_mode": {
    "name": "ipython",
    "version": 3
   },
   "file_extension": ".py",
   "mimetype": "text/x-python",
   "name": "python",
   "nbconvert_exporter": "python",
   "pygments_lexer": "ipython3",
   "version": "3.6.2"
  }
 },
 "nbformat": 4,
 "nbformat_minor": 2
}
