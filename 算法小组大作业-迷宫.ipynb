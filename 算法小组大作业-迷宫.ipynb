{
 "cells": [
  {
   "cell_type": "markdown",
   "metadata": {},
   "source": [
    "【走迷宫】你的手里有一张迷宫地图。现在，你想知道从迷宫入口到走出迷宫有多少条路？迷宫地图如下图所示："
   ]
  },
  {
   "cell_type": "markdown",
   "metadata": {},
   "source": [
    "01111\n",
    "\n",
    "00001\n",
    "\n",
    "10101\n",
    "\n",
    "10001\n",
    "\n",
    "11100"
   ]
  },
  {
   "cell_type": "markdown",
   "metadata": {},
   "source": [
    "每个迷宫地图都是个n*m（n行，m列）的矩阵。迷宫入口在左上角-坐标（0，0），迷宫出口在右下角-坐标（n-1，m-1）。其中，地图上的数字0表示可以走路的地方，数字1表示迷宫障碍。在迷宫里，你只能往上下左右四个方向移动（不能斜着走）。\n",
    "\n",
    "每条迷宫路线是不能走回头路的————这意味着每个数字0只能被经过一次。\n",
    "\n",
    "（我们能够很轻松的看出来，上面这个迷宫地图，一共有两条出路）\n",
    "\n",
    "好了，接下来，各个小组发挥聪明才智，用程序来解决这道问题吧！\n",
    "\n",
    "（提示：迷宫地图存在成了一个csv文件(\"./map.csv\")，可以通过python的pandas包读取）"
   ]
  },
  {
   "cell_type": "code",
   "execution_count": 6,
   "metadata": {},
   "outputs": [
    {
     "name": "stdout",
     "output_type": "stream",
     "text": [
      "共有 8 条路径\n"
     ]
    }
   ],
   "source": [
    "import pandas as pd\n",
    "Map=pd.read_csv(\"map.csv\").iloc[:,1:]\n",
    "route=[]\n",
    "def MG(Map0,x,y,L):\n",
    "    Map0.iloc[x,y]=2\n",
    "    L.append('(%s,%s)'%(x,y))\n",
    "    if(x==15 and y==15):\n",
    "        route.append(0)\n",
    "    if(x<15 and Map0.iloc[x+1,y]==0):\n",
    "        MG(Map0.iloc[:,:],x+1,y,L)\n",
    "    if(x>0 and Map0.iloc[x-1,y]==0):\n",
    "        MG(Map0.iloc[:,:],x-1,y,L)\n",
    "    if(y<15 and Map0.iloc[x,y+1]==0):\n",
    "        MG(Map0.iloc[:,:],x,y+1,L)\n",
    "    if(y>0 and Map0.iloc[x,y-1]==0):\n",
    "        MG(Map0.iloc[:,:],x,y-1,L)\n",
    "    Map0.iloc[x,y]=0\n",
    "MG(Map,0,0,[])\n",
    "print(\"共有\",len(route),'条路径')"
   ]
  },
  {
   "cell_type": "code",
   "execution_count": null,
   "metadata": {
    "collapsed": true
   },
   "outputs": [],
   "source": []
  }
 ],
 "metadata": {
  "kernelspec": {
   "display_name": "Python 3",
   "language": "python",
   "name": "python3"
  },
  "language_info": {
   "codemirror_mode": {
    "name": "ipython",
    "version": 3
   },
   "file_extension": ".py",
   "mimetype": "text/x-python",
   "name": "python",
   "nbconvert_exporter": "python",
   "pygments_lexer": "ipython3",
   "version": "3.6.2"
  }
 },
 "nbformat": 4,
 "nbformat_minor": 2
}
